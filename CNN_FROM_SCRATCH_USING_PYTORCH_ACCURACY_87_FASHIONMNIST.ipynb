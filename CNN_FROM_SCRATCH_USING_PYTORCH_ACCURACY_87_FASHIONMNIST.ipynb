{
  "nbformat": 4,
  "nbformat_minor": 0,
  "metadata": {
    "colab": {
      "provenance": [],
      "gpuType": "T4",
      "include_colab_link": true
    },
    "kernelspec": {
      "name": "python3",
      "display_name": "Python 3"
    },
    "language_info": {
      "name": "python"
    },
    "accelerator": "GPU"
  },
  "cells": [
    {
      "cell_type": "markdown",
      "metadata": {
        "id": "view-in-github",
        "colab_type": "text"
      },
      "source": [
        "<a href=\"https://colab.research.google.com/github/iamRahulB/python-practice/blob/main/CNN_FROM_SCRATCH_USING_PYTORCH_ACCURACY_87_FASHIONMNIST.ipynb\" target=\"_parent\"><img src=\"https://colab.research.google.com/assets/colab-badge.svg\" alt=\"Open In Colab\"/></a>"
      ]
    },
    {
      "cell_type": "code",
      "source": [
        "import torch\n",
        "from torch import nn\n",
        "import torch.optim as optim\n",
        "import torchvision\n",
        "from torchvision import datasets, transforms\n",
        "import matplotlib.pyplot as plt"
      ],
      "metadata": {
        "id": "0XDoBRdRV5Cs"
      },
      "execution_count": null,
      "outputs": []
    },
    {
      "cell_type": "code",
      "source": [
        "device=(\"cuda\" if torch.cuda.is_available() else False)\n",
        "device"
      ],
      "metadata": {
        "colab": {
          "base_uri": "https://localhost:8080/",
          "height": 36
        },
        "id": "v5kYdo8VMIoK",
        "outputId": "2febbdb4-22d5-4db5-f889-28a12fa5fe33"
      },
      "execution_count": null,
      "outputs": [
        {
          "output_type": "execute_result",
          "data": {
            "text/plain": [
              "'cuda'"
            ],
            "application/vnd.google.colaboratory.intrinsic+json": {
              "type": "string"
            }
          },
          "metadata": {},
          "execution_count": 2
        }
      ]
    },
    {
      "cell_type": "code",
      "source": [
        "#  import datasets for image classification\n",
        "\n",
        "train_data =datasets.FashionMNIST(\"data\",\n",
        "                                  train=True,\n",
        "                                  transform=transforms.ToTensor(),\n",
        "                                  target_transform=None,\n",
        "                                  download=True)\n",
        "\n",
        "test_data=datasets.FashionMNIST(\"data\",\n",
        "                                train=False,\n",
        "                                transform=transforms.ToTensor(),\n",
        "                                target_transform=None,\n",
        "                                download=True)"
      ],
      "metadata": {
        "id": "wQOwwBNoMZjK"
      },
      "execution_count": null,
      "outputs": []
    },
    {
      "cell_type": "code",
      "source": [
        "# so train_data has 2 columns , 1 is image and 2nd is lables\n",
        "train_data.classes"
      ],
      "metadata": {
        "colab": {
          "base_uri": "https://localhost:8080/"
        },
        "id": "zpaGhTggOZgG",
        "outputId": "1c090b67-fb00-418b-dda0-871b0f2bd198"
      },
      "execution_count": null,
      "outputs": [
        {
          "output_type": "execute_result",
          "data": {
            "text/plain": [
              "['T-shirt/top',\n",
              " 'Trouser',\n",
              " 'Pullover',\n",
              " 'Dress',\n",
              " 'Coat',\n",
              " 'Sandal',\n",
              " 'Shirt',\n",
              " 'Sneaker',\n",
              " 'Bag',\n",
              " 'Ankle boot']"
            ]
          },
          "metadata": {},
          "execution_count": 4
        }
      ]
    },
    {
      "cell_type": "code",
      "source": [
        "train_data.targets"
      ],
      "metadata": {
        "colab": {
          "base_uri": "https://localhost:8080/"
        },
        "id": "r4X1vsxGOmz_",
        "outputId": "e06e0b20-6f1b-40c9-ef45-a48f5f4e9460"
      },
      "execution_count": null,
      "outputs": [
        {
          "output_type": "execute_result",
          "data": {
            "text/plain": [
              "tensor([9, 0, 0,  ..., 3, 0, 5])"
            ]
          },
          "metadata": {},
          "execution_count": 5
        }
      ]
    },
    {
      "cell_type": "code",
      "source": [
        "\n",
        "import pandas as pd\n",
        "\n",
        "data = []\n",
        "for i in range(len(train_data)):\n",
        "  image, label = train_data[i]\n",
        "  data.append([image, label])\n",
        "\n",
        "df = pd.DataFrame(data, columns=['Image', 'Label'])\n",
        "\n",
        "print(df.head())"
      ],
      "metadata": {
        "colab": {
          "base_uri": "https://localhost:8080/"
        },
        "id": "Rcr2d1kcO4kY",
        "outputId": "804c08ec-bd71-4b6d-c267-a3a5a5b9b605"
      },
      "execution_count": null,
      "outputs": [
        {
          "output_type": "stream",
          "name": "stdout",
          "text": [
            "                                               Image  Label\n",
            "0  [[[tensor(0.), tensor(0.), tensor(0.), tensor(...      9\n",
            "1  [[[tensor(0.), tensor(0.), tensor(0.), tensor(...      0\n",
            "2  [[[tensor(0.), tensor(0.), tensor(0.), tensor(...      0\n",
            "3  [[[tensor(0.), tensor(0.), tensor(0.), tensor(...      3\n",
            "4  [[[tensor(0.), tensor(0.), tensor(0.), tensor(...      0\n"
          ]
        }
      ]
    },
    {
      "cell_type": "code",
      "source": [
        "#  to see dictionary map of classes and targets we can do following thing\n",
        "\n",
        "class_to_idx=train_data.class_to_idx\n",
        "class_to_idx"
      ],
      "metadata": {
        "colab": {
          "base_uri": "https://localhost:8080/"
        },
        "id": "859XZBEHPchk",
        "outputId": "680915a4-94fa-4a78-ce49-389abff082f3"
      },
      "execution_count": null,
      "outputs": [
        {
          "output_type": "execute_result",
          "data": {
            "text/plain": [
              "{'T-shirt/top': 0,\n",
              " 'Trouser': 1,\n",
              " 'Pullover': 2,\n",
              " 'Dress': 3,\n",
              " 'Coat': 4,\n",
              " 'Sandal': 5,\n",
              " 'Shirt': 6,\n",
              " 'Sneaker': 7,\n",
              " 'Bag': 8,\n",
              " 'Ankle boot': 9}"
            ]
          },
          "metadata": {},
          "execution_count": 7
        }
      ]
    },
    {
      "cell_type": "code",
      "source": [
        "train_data[0][0].shape\n",
        "\n",
        "#  image has 1 color channel and hight and width"
      ],
      "metadata": {
        "colab": {
          "base_uri": "https://localhost:8080/"
        },
        "id": "fHccc-fUQ_0Y",
        "outputId": "a7d06387-7138-430c-c2ac-cbbba459af94"
      },
      "execution_count": null,
      "outputs": [
        {
          "output_type": "execute_result",
          "data": {
            "text/plain": [
              "torch.Size([1, 28, 28])"
            ]
          },
          "metadata": {},
          "execution_count": 8
        }
      ]
    },
    {
      "cell_type": "code",
      "source": [
        "plt.imshow(train_data[0][0].squeeze())\n",
        "\n",
        "# so squeeze removes one dim and we can see our image has 1 color channle so we can remove that.\n"
      ],
      "metadata": {
        "colab": {
          "base_uri": "https://localhost:8080/",
          "height": 447
        },
        "id": "B4aQevyCPdtH",
        "outputId": "b99247cc-6b67-4571-da90-e53b8446a584"
      },
      "execution_count": null,
      "outputs": [
        {
          "output_type": "execute_result",
          "data": {
            "text/plain": [
              "<matplotlib.image.AxesImage at 0x7ecdcf86e8f0>"
            ]
          },
          "metadata": {},
          "execution_count": 9
        },
        {
          "output_type": "display_data",
          "data": {
            "text/plain": [
              "<Figure size 640x480 with 1 Axes>"
            ],
            "image/png": "[encoded data removed]"
          },
          "metadata": {}
        }
      ]
    },
    {
      "cell_type": "code",
      "source": [
        "plt.imshow(train_data[0][0].squeeze(),cmap='gray')\n",
        "\n",
        "#  using cmap we can change the image into black white nd this is what we need."
      ],
      "metadata": {
        "colab": {
          "base_uri": "https://localhost:8080/",
          "height": 447
        },
        "id": "q0pOqdFcQuL_",
        "outputId": "1d5fd804-b734-49df-852b-a8c4a8a714c7"
      },
      "execution_count": null,
      "outputs": [
        {
          "output_type": "execute_result",
          "data": {
            "text/plain": [
              "<matplotlib.image.AxesImage at 0x7ecdccd35e70>"
            ]
          },
          "metadata": {},
          "execution_count": 10
        },
        {
          "output_type": "display_data",
          "data": {
            "text/plain": [
              "<Figure size 640x480 with 1 Axes>"
            ],
            "image/png": "[encoded data removed]"
          },
          "metadata": {}
        }
      ]
    },
    {
      "cell_type": "code",
      "source": [
        "import random"
      ],
      "metadata": {
        "id": "B3OHh3SeTNQR"
      },
      "execution_count": null,
      "outputs": []
    },
    {
      "cell_type": "code",
      "source": [
        "for i in range(1,13):\n",
        "    image,label=train_data[i]\n",
        "    plt.subplot(3,4,i)\n",
        "    plt.imshow(image.squeeze(),cmap='gray')\n",
        "    plt.title(train_data.classes[label])\n",
        "    plt.axis('off')"
      ],
      "metadata": {
        "colab": {
          "base_uri": "https://localhost:8080/",
          "height": 428
        },
        "id": "biulAuNERoep",
        "outputId": "e74b715c-e2d1-48b9-d2da-089e8dd28250"
      },
      "execution_count": null,
      "outputs": [
        {
          "output_type": "display_data",
          "data": {
            "text/plain": [
              "<Figure size 640x480 with 12 Axes>"
            ],
            "image/png": "[encoded data removed]"
          },
          "metadata": {}
        }
      ]
    },
    {
      "cell_type": "code",
      "source": [
        "torch.randint(0,5,size=[1]).item()"
      ],
      "metadata": {
        "colab": {
          "base_uri": "https://localhost:8080/"
        },
        "id": "hPjGXtokUI9Z",
        "outputId": "be4cb6a9-aec9-4573-cf10-85426f3f81d8"
      },
      "execution_count": null,
      "outputs": [
        {
          "output_type": "execute_result",
          "data": {
            "text/plain": [
              "3"
            ]
          },
          "metadata": {},
          "execution_count": 13
        }
      ]
    },
    {
      "cell_type": "markdown",
      "source": [
        "# preapare dataloader\n",
        "1.   our data is in pytorch datasets\n",
        "2.   we need convert datasets into dataloader to make it iterable\n",
        "3.  also we neeed to make batches to fit in memory : so model will have chance to update gradients (weight , bias )\n",
        "\n"
      ],
      "metadata": {
        "id": "7Ypbie6gXDGT"
      }
    },
    {
      "cell_type": "code",
      "source": [
        "#  remember to shuffle the data in dataloader so model will not remember the order\n",
        "#  ssuppose first 32 images are only pant images so model will not perform good.\n",
        "#  we need randon image batches."
      ],
      "metadata": {
        "id": "EGzA2QPwUsRx"
      },
      "execution_count": null,
      "outputs": []
    },
    {
      "cell_type": "code",
      "source": [
        "from torch.utils.data import DataLoader\n",
        "\n",
        "batch_size=32\n",
        "\n",
        "train_loader=DataLoader(dataset=train_data,\n",
        "                        shuffle=True,\n",
        "                        batch_size=batch_size,)\n",
        "\n",
        "test_loader=DataLoader(dataset=test_data,\n",
        "                       shuffle=False,\n",
        "                       batch_size=batch_size)\n",
        "\n",
        "\n",
        "#  shuffle in test is false as we are just checking model performance so it doesnt learn anything from test so False\n"
      ],
      "metadata": {
        "id": "wXunXqXcXBC0"
      },
      "execution_count": null,
      "outputs": []
    },
    {
      "cell_type": "code",
      "source": [
        "#  print loaders\n",
        "\n",
        "print(f\" Length of train_loader : {len(train_loader)} with batch size : {batch_size}\")\n",
        "print(f\" Length of test_loader : {len(test_loader)} with batch size : {batch_size}\")"
      ],
      "metadata": {
        "colab": {
          "base_uri": "https://localhost:8080/"
        },
        "id": "TDiH2VghZ497",
        "outputId": "47a4b086-54f5-457b-fb3e-4c7ccd53326d"
      },
      "execution_count": null,
      "outputs": [
        {
          "output_type": "stream",
          "name": "stdout",
          "text": [
            " Length of train_loader : 1875 with batch size : 32\n",
            " Length of test_loader : 313 with batch size : 32\n"
          ]
        }
      ]
    },
    {
      "cell_type": "code",
      "source": [
        "train_feature_batch, train_label_batch=next(iter(train_loader))\n",
        "\n",
        "train_feature_batch.shape, train_label_batch.shape\n"
      ],
      "metadata": {
        "colab": {
          "base_uri": "https://localhost:8080/"
        },
        "id": "eKejZVGKauST",
        "outputId": "1ad21eb1-c4b9-41db-bb45-dfdaed9344de"
      },
      "execution_count": null,
      "outputs": [
        {
          "output_type": "execute_result",
          "data": {
            "text/plain": [
              "(torch.Size([32, 1, 28, 28]), torch.Size([32]))"
            ]
          },
          "metadata": {},
          "execution_count": 17
        }
      ]
    },
    {
      "cell_type": "markdown",
      "source": [
        "Above code follows order NCHW -> batch, channel, hight , width"
      ],
      "metadata": {
        "id": "l-zs_OSedbiX"
      }
    },
    {
      "cell_type": "code",
      "source": [
        "flatten_layer=nn.Flatten()\n",
        "\n",
        "image_next=next(iter(train_loader))[0][0]\n",
        "image_shape_in_loader=image_next.shape\n",
        "\n",
        "print(f\"Image shape in loader : {image_shape_in_loader}\")\n",
        "\n",
        "output=flatten_layer(image_next)\n",
        "\n",
        "print(f\"Image shape after flatten : {output.shape}\")"
      ],
      "metadata": {
        "colab": {
          "base_uri": "https://localhost:8080/"
        },
        "id": "yg-tsGvHa49C",
        "outputId": "249467af-ada3-4852-fd33-9c749617fcff"
      },
      "execution_count": null,
      "outputs": [
        {
          "output_type": "stream",
          "name": "stdout",
          "text": [
            "Image shape in loader : torch.Size([1, 28, 28])\n",
            "Image shape after flatten : torch.Size([1, 784])\n"
          ]
        }
      ]
    },
    {
      "cell_type": "markdown",
      "source": [
        "we can see above after flattening image how all the pixels are arranged in a strip\n",
        "\n",
        "\n"
      ],
      "metadata": {
        "id": "h3bxTC0fkOMj"
      }
    },
    {
      "cell_type": "code",
      "source": [
        "train_data[0][0].shape"
      ],
      "metadata": {
        "colab": {
          "base_uri": "https://localhost:8080/"
        },
        "id": "sutPJpFDmxzY",
        "outputId": "4091d7bf-4032-4a8a-e5ae-5192099e30fc"
      },
      "execution_count": null,
      "outputs": [
        {
          "output_type": "execute_result",
          "data": {
            "text/plain": [
              "torch.Size([1, 28, 28])"
            ]
          },
          "metadata": {},
          "execution_count": 19
        }
      ]
    },
    {
      "cell_type": "code",
      "source": [
        "\n",
        "class CNNModel(nn.Module):\n",
        "    def __init__(self, input_channels, output_shape):\n",
        "        super(CNNModel, self).__init__()\n",
        "        self.first_stack = nn.Sequential(\n",
        "            nn.Conv2d(input_channels, 32, kernel_size=3, padding=1), # Added padding=1 to the first Conv2d layer\n",
        "            nn.ReLU(),\n",
        "            nn.MaxPool2d(kernel_size=2, stride=2)\n",
        "        )\n",
        "        self.second_stack = nn.Sequential(\n",
        "            nn.Conv2d(32, 64, kernel_size=3, padding=1), # Added padding=1 to the second Conv2d layer\n",
        "            nn.ReLU(),\n",
        "            nn.MaxPool2d(kernel_size=2, stride=2)\n",
        "        )\n",
        "        self.classifier = nn.Sequential(\n",
        "            nn.Flatten(),\n",
        "            nn.Linear(7 * 7 * 64, 128), # Adjusted the input size of the Linear layer\n",
        "            nn.ReLU(),\n",
        "            nn.Linear(128, output_shape)\n",
        "        )\n",
        "\n",
        "    def forward(self, x):\n",
        "        x = self.first_stack(x)\n",
        "        x = self.second_stack(x)\n",
        "        x = self.classifier(x)\n",
        "        return x"
      ],
      "metadata": {
        "id": "bWLYnwUxL-Or"
      },
      "execution_count": null,
      "outputs": []
    },
    {
      "cell_type": "code",
      "source": [
        "torch.manual_seed(42)\n",
        "model=CNNModel(input_channels=1,output_shape=len(train_data.classes))\n",
        "model.to(device)"
      ],
      "metadata": {
        "colab": {
          "base_uri": "https://localhost:8080/"
        },
        "id": "S18MRWnuL-L_",
        "outputId": "3e780e15-fbad-459b-ebcd-5c77e534ee7f"
      },
      "execution_count": null,
      "outputs": [
        {
          "output_type": "execute_result",
          "data": {
            "text/plain": [
              "CNNModel(\n",
              "  (first_stack): Sequential(\n",
              "    (0): Conv2d(1, 32, kernel_size=(3, 3), stride=(1, 1), padding=(1, 1))\n",
              "    (1): ReLU()\n",
              "    (2): MaxPool2d(kernel_size=2, stride=2, padding=0, dilation=1, ceil_mode=False)\n",
              "  )\n",
              "  (second_stack): Sequential(\n",
              "    (0): Conv2d(32, 64, kernel_size=(3, 3), stride=(1, 1), padding=(1, 1))\n",
              "    (1): ReLU()\n",
              "    (2): MaxPool2d(kernel_size=2, stride=2, padding=0, dilation=1, ceil_mode=False)\n",
              "  )\n",
              "  (classifier): Sequential(\n",
              "    (0): Flatten(start_dim=1, end_dim=-1)\n",
              "    (1): Linear(in_features=3136, out_features=128, bias=True)\n",
              "    (2): ReLU()\n",
              "    (3): Linear(in_features=128, out_features=10, bias=True)\n",
              "  )\n",
              ")"
            ]
          },
          "metadata": {},
          "execution_count": 48
        }
      ]
    },
    {
      "cell_type": "code",
      "source": [
        "from torchsummary import summary\n",
        "\n",
        "summary(model,(1, 28, 28))"
      ],
      "metadata": {
        "colab": {
          "base_uri": "https://localhost:8080/"
        },
        "id": "7rqBy7qxL-JR",
        "outputId": "adad8e2d-a21b-48c5-d0fd-b144a5a100bd"
      },
      "execution_count": null,
      "outputs": [
        {
          "output_type": "stream",
          "name": "stdout",
          "text": [
            "----------------------------------------------------------------\n",
            "        Layer (type)               Output Shape         Param #\n",
            "================================================================\n",
            "            Conv2d-1           [-1, 32, 28, 28]             320\n",
            "              ReLU-2           [-1, 32, 28, 28]               0\n",
            "         MaxPool2d-3           [-1, 32, 14, 14]               0\n",
            "            Conv2d-4           [-1, 64, 14, 14]          18,496\n",
            "              ReLU-5           [-1, 64, 14, 14]               0\n",
            "         MaxPool2d-6             [-1, 64, 7, 7]               0\n",
            "           Flatten-7                 [-1, 3136]               0\n",
            "            Linear-8                  [-1, 128]         401,536\n",
            "              ReLU-9                  [-1, 128]               0\n",
            "           Linear-10                   [-1, 10]           1,290\n",
            "================================================================\n",
            "Total params: 421,642\n",
            "Trainable params: 421,642\n",
            "Non-trainable params: 0\n",
            "----------------------------------------------------------------\n",
            "Input size (MB): 0.00\n",
            "Forward/backward pass size (MB): 0.67\n",
            "Params size (MB): 1.61\n",
            "Estimated Total Size (MB): 2.28\n",
            "----------------------------------------------------------------\n"
          ]
        }
      ]
    },
    {
      "cell_type": "code",
      "source": [
        "#  in flatten layer it gave error -->  mat1 and mat2 shapes cannot be multiplied (2x576 and 1152x156) so --> 576 is the actual size we need to pass after flatten layer"
      ],
      "metadata": {
        "id": "aJ26i3s1ZnnP"
      },
      "execution_count": null,
      "outputs": []
    },
    {
      "cell_type": "code",
      "source": [
        "check_image=next(iter(train_loader))\n",
        "print(check_image[0].shape)\n",
        "\n",
        "print(check_image[1])"
      ],
      "metadata": {
        "colab": {
          "base_uri": "https://localhost:8080/"
        },
        "id": "ebCCrdWFYELa",
        "outputId": "d5e89d18-d84a-43ae-ee41-4a56c41e3af0"
      },
      "execution_count": null,
      "outputs": [
        {
          "output_type": "stream",
          "name": "stdout",
          "text": [
            "torch.Size([32, 1, 28, 28])\n",
            "tensor([2, 7, 8, 3, 0, 2, 3, 5, 6, 0, 6, 5, 7, 3, 7, 4, 4, 3, 7, 1, 4, 8, 7, 4,\n",
            "        1, 5, 4, 5, 2, 9, 7, 9])\n"
          ]
        }
      ]
    },
    {
      "cell_type": "code",
      "source": [
        "with torch.inference_mode():\n",
        "    check=model(check_image[0].to(device))\n",
        "\n",
        "check.argmax(dim=1)"
      ],
      "metadata": {
        "colab": {
          "base_uri": "https://localhost:8080/"
        },
        "id": "BaBqxFVxXakS",
        "outputId": "822b18a3-2c68-403c-d95d-9a8518706ccc"
      },
      "execution_count": null,
      "outputs": [
        {
          "output_type": "execute_result",
          "data": {
            "text/plain": [
              "tensor([4, 4, 4, 4, 8, 4, 4, 4, 4, 4, 4, 4, 4, 4, 4, 4, 4, 4, 4, 4, 4, 4, 4, 4,\n",
              "        8, 8, 4, 0, 4, 3, 4, 4], device='cuda:0')"
            ]
          },
          "metadata": {},
          "execution_count": 53
        }
      ]
    },
    {
      "cell_type": "code",
      "source": [
        "from sklearn.metrics import accuracy_score\n",
        "from tqdm import tqdm"
      ],
      "metadata": {
        "id": "4bw6nDSxYxYw"
      },
      "execution_count": null,
      "outputs": []
    },
    {
      "cell_type": "code",
      "source": [
        "import torch\n",
        "import torch.nn as nn\n",
        "import torch.optim as optim\n",
        "from sklearn.metrics import accuracy_score\n",
        "from tqdm import tqdm\n",
        "\n",
        "# Assuming model, train_loader, and test_loader are already defined\n",
        "device = torch.device(\"cuda\" if torch.cuda.is_available() else \"cpu\")\n",
        "model.to(device)\n",
        "\n",
        "loss_fn = nn.CrossEntropyLoss()\n",
        "optimizer = optim.Adam(params=model.parameters(), lr=0.01)\n",
        "\n",
        "epochs =10\n",
        "\n",
        "for epoch in range(epochs):\n",
        "    model.train()\n",
        "    avg_train_loss = 0\n",
        "    avg_train_acc = 0\n",
        "    for batch, (X_train, y_train) in enumerate(train_loader):\n",
        "        X_train, y_train = X_train.to(device), y_train.to(device)\n",
        "        train_batch_logits = model(X_train)\n",
        "\n",
        "        train_batch_preds = train_batch_logits.argmax(dim=1)\n",
        "\n",
        "        train_batch_loss = loss_fn(train_batch_logits, y_train)\n",
        "\n",
        "        train_batch_acc = accuracy_score(y_train.cpu(), train_batch_preds.cpu())\n",
        "\n",
        "        optimizer.zero_grad()\n",
        "        train_batch_loss.backward()\n",
        "        optimizer.step()\n",
        "\n",
        "        avg_train_loss += train_batch_loss.item()\n",
        "        avg_train_acc += train_batch_acc\n",
        "\n",
        "        if batch % 300 == 0:  # Adjust the frequency as needed\n",
        "            print(f\"Batch {batch} | Loss: {train_batch_loss.item():.4f} | Acc: {train_batch_acc * 100:.2f}%\")\n",
        "\n",
        "    model.eval()\n",
        "\n",
        "    avg_test_loss = 0\n",
        "    avg_test_acc = 0\n",
        "    # Model evaluation\n",
        "    with torch.inference_mode():\n",
        "        for X_test, y_test in tqdm(test_loader, desc=\"Evaluating\"):\n",
        "            X_test, y_test = X_test.to(device), y_test.to(device)\n",
        "            test_logits = model(X_test)\n",
        "\n",
        "            test_preds = test_logits.argmax(dim=1)\n",
        "            test_loss = loss_fn(test_logits, y_test)\n",
        "\n",
        "            test_acc = accuracy_score(y_test.cpu(), test_preds.cpu())\n",
        "\n",
        "            avg_test_loss += test_loss.item()\n",
        "            avg_test_acc += test_acc\n",
        "\n",
        "    # Calculate average loss and accuracy\n",
        "    avg_train_loss /= len(train_loader)\n",
        "    avg_train_acc /= len(train_loader)\n",
        "    avg_test_loss /= len(test_loader)\n",
        "    avg_test_acc /= len(test_loader)\n",
        "\n",
        "    print(f\"Epoch: {epoch} | Train Loss: {avg_train_loss:.4f} | Train Acc: {avg_train_acc * 100:.2f}% | Test Loss: {avg_test_loss:.4f} | Test Acc: {avg_test_acc * 100:.2f}%\")\n"
      ],
      "metadata": {
        "colab": {
          "base_uri": "https://localhost:8080/"
        },
        "id": "VLaqxP4DYn82",
        "outputId": "5264f372-0b29-42a0-f438-0b0d9a7e9507"
      },
      "execution_count": null,
      "outputs": [
        {
          "output_type": "stream",
          "name": "stdout",
          "text": [
            "Batch 0 | Loss: 2.2938 | Acc: 25.00%\n",
            "Batch 300 | Loss: 0.7381 | Acc: 71.88%\n",
            "Batch 600 | Loss: 0.2731 | Acc: 90.62%\n",
            "Batch 900 | Loss: 0.3069 | Acc: 90.62%\n",
            "Batch 1200 | Loss: 0.6183 | Acc: 75.00%\n",
            "Batch 1500 | Loss: 0.2159 | Acc: 84.38%\n",
            "Batch 1800 | Loss: 0.2763 | Acc: 87.50%\n"
          ]
        },
        {
          "output_type": "stream",
          "name": "stderr",
          "text": [
            "Evaluating: 100%|██████████| 313/313 [00:01<00:00, 215.40it/s]\n"
          ]
        },
        {
          "output_type": "stream",
          "name": "stdout",
          "text": [
            "Epoch: 0 | Train Loss: 0.4345 | Train Acc: 84.08% | Test Loss: 0.3462 | Test Acc: 87.34%\n",
            "Batch 0 | Loss: 0.3336 | Acc: 84.38%\n",
            "Batch 300 | Loss: 0.1592 | Acc: 93.75%\n",
            "Batch 600 | Loss: 0.1526 | Acc: 93.75%\n",
            "Batch 900 | Loss: 0.4140 | Acc: 84.38%\n",
            "Batch 1200 | Loss: 0.2163 | Acc: 96.88%\n",
            "Batch 1500 | Loss: 0.2899 | Acc: 87.50%\n",
            "Batch 1800 | Loss: 0.2582 | Acc: 87.50%\n"
          ]
        },
        {
          "output_type": "stream",
          "name": "stderr",
          "text": [
            "Evaluating: 100%|██████████| 313/313 [00:01<00:00, 209.88it/s]\n"
          ]
        },
        {
          "output_type": "stream",
          "name": "stdout",
          "text": [
            "Epoch: 1 | Train Loss: 0.3296 | Train Acc: 87.76% | Test Loss: 0.3414 | Test Acc: 87.88%\n",
            "Batch 0 | Loss: 0.3531 | Acc: 84.38%\n",
            "Batch 300 | Loss: 0.5031 | Acc: 87.50%\n",
            "Batch 600 | Loss: 0.2794 | Acc: 90.62%\n",
            "Batch 900 | Loss: 0.2982 | Acc: 90.62%\n",
            "Batch 1200 | Loss: 0.2477 | Acc: 90.62%\n",
            "Batch 1500 | Loss: 0.8046 | Acc: 84.38%\n",
            "Batch 1800 | Loss: 0.3001 | Acc: 87.50%\n"
          ]
        },
        {
          "output_type": "stream",
          "name": "stderr",
          "text": [
            "Evaluating: 100%|██████████| 313/313 [00:01<00:00, 158.03it/s]\n"
          ]
        },
        {
          "output_type": "stream",
          "name": "stdout",
          "text": [
            "Epoch: 2 | Train Loss: 0.3081 | Train Acc: 88.43% | Test Loss: 0.3349 | Test Acc: 87.98%\n",
            "Batch 0 | Loss: 0.4063 | Acc: 75.00%\n",
            "Batch 300 | Loss: 0.1800 | Acc: 93.75%\n",
            "Batch 600 | Loss: 0.6103 | Acc: 78.12%\n",
            "Batch 900 | Loss: 0.1932 | Acc: 90.62%\n",
            "Batch 1200 | Loss: 0.1210 | Acc: 93.75%\n",
            "Batch 1500 | Loss: 0.3281 | Acc: 90.62%\n",
            "Batch 1800 | Loss: 0.2182 | Acc: 93.75%\n"
          ]
        },
        {
          "output_type": "stream",
          "name": "stderr",
          "text": [
            "Evaluating: 100%|██████████| 313/313 [00:01<00:00, 165.26it/s]\n"
          ]
        },
        {
          "output_type": "stream",
          "name": "stdout",
          "text": [
            "Epoch: 3 | Train Loss: 0.3013 | Train Acc: 88.77% | Test Loss: 0.3673 | Test Acc: 87.83%\n",
            "Batch 0 | Loss: 0.1544 | Acc: 93.75%\n",
            "Batch 300 | Loss: 0.4657 | Acc: 78.12%\n",
            "Batch 600 | Loss: 0.1188 | Acc: 93.75%\n",
            "Batch 900 | Loss: 0.5693 | Acc: 78.12%\n",
            "Batch 1200 | Loss: 0.0702 | Acc: 96.88%\n",
            "Batch 1500 | Loss: 0.2103 | Acc: 93.75%\n",
            "Batch 1800 | Loss: 0.4705 | Acc: 78.12%\n"
          ]
        },
        {
          "output_type": "stream",
          "name": "stderr",
          "text": [
            "Evaluating: 100%|██████████| 313/313 [00:01<00:00, 213.11it/s]\n"
          ]
        },
        {
          "output_type": "stream",
          "name": "stdout",
          "text": [
            "Epoch: 4 | Train Loss: 0.2883 | Train Acc: 89.21% | Test Loss: 0.3389 | Test Acc: 87.96%\n",
            "Batch 0 | Loss: 0.1437 | Acc: 93.75%\n",
            "Batch 300 | Loss: 0.1460 | Acc: 93.75%\n",
            "Batch 600 | Loss: 0.2570 | Acc: 87.50%\n",
            "Batch 900 | Loss: 0.4920 | Acc: 84.38%\n",
            "Batch 1200 | Loss: 0.1711 | Acc: 90.62%\n",
            "Batch 1500 | Loss: 0.2531 | Acc: 84.38%\n",
            "Batch 1800 | Loss: 0.3038 | Acc: 87.50%\n"
          ]
        },
        {
          "output_type": "stream",
          "name": "stderr",
          "text": [
            "Evaluating: 100%|██████████| 313/313 [00:01<00:00, 194.45it/s]\n"
          ]
        },
        {
          "output_type": "stream",
          "name": "stdout",
          "text": [
            "Epoch: 5 | Train Loss: 0.2845 | Train Acc: 89.51% | Test Loss: 0.3611 | Test Acc: 87.51%\n",
            "Batch 0 | Loss: 0.1980 | Acc: 90.62%\n",
            "Batch 300 | Loss: 0.1073 | Acc: 96.88%\n",
            "Batch 600 | Loss: 0.0630 | Acc: 100.00%\n",
            "Batch 900 | Loss: 0.3435 | Acc: 84.38%\n",
            "Batch 1200 | Loss: 0.2536 | Acc: 90.62%\n",
            "Batch 1500 | Loss: 0.0977 | Acc: 96.88%\n",
            "Batch 1800 | Loss: 0.2573 | Acc: 93.75%\n"
          ]
        },
        {
          "output_type": "stream",
          "name": "stderr",
          "text": [
            "Evaluating: 100%|██████████| 313/313 [00:01<00:00, 215.71it/s]\n"
          ]
        },
        {
          "output_type": "stream",
          "name": "stdout",
          "text": [
            "Epoch: 6 | Train Loss: 0.2758 | Train Acc: 89.76% | Test Loss: 0.3366 | Test Acc: 88.14%\n",
            "Batch 0 | Loss: 0.3630 | Acc: 87.50%\n",
            "Batch 300 | Loss: 0.2873 | Acc: 84.38%\n",
            "Batch 600 | Loss: 0.5181 | Acc: 87.50%\n",
            "Batch 900 | Loss: 0.3279 | Acc: 90.62%\n",
            "Batch 1200 | Loss: 0.1345 | Acc: 96.88%\n",
            "Batch 1500 | Loss: 0.2254 | Acc: 93.75%\n",
            "Batch 1800 | Loss: 0.3610 | Acc: 87.50%\n"
          ]
        },
        {
          "output_type": "stream",
          "name": "stderr",
          "text": [
            "Evaluating: 100%|██████████| 313/313 [00:01<00:00, 206.72it/s]\n"
          ]
        },
        {
          "output_type": "stream",
          "name": "stdout",
          "text": [
            "Epoch: 7 | Train Loss: 0.2743 | Train Acc: 89.81% | Test Loss: 0.3323 | Test Acc: 88.25%\n",
            "Batch 0 | Loss: 0.4838 | Acc: 81.25%\n",
            "Batch 300 | Loss: 0.2348 | Acc: 93.75%\n",
            "Batch 600 | Loss: 0.2511 | Acc: 90.62%\n",
            "Batch 900 | Loss: 0.2556 | Acc: 87.50%\n",
            "Batch 1200 | Loss: 0.2294 | Acc: 90.62%\n",
            "Batch 1500 | Loss: 0.7580 | Acc: 71.88%\n",
            "Batch 1800 | Loss: 0.2467 | Acc: 93.75%\n"
          ]
        },
        {
          "output_type": "stream",
          "name": "stderr",
          "text": [
            "Evaluating: 100%|██████████| 313/313 [00:01<00:00, 210.39it/s]\n"
          ]
        },
        {
          "output_type": "stream",
          "name": "stdout",
          "text": [
            "Epoch: 8 | Train Loss: 0.2689 | Train Acc: 89.87% | Test Loss: 0.3235 | Test Acc: 89.37%\n",
            "Batch 0 | Loss: 0.2456 | Acc: 93.75%\n",
            "Batch 300 | Loss: 0.1369 | Acc: 93.75%\n",
            "Batch 600 | Loss: 0.2625 | Acc: 87.50%\n",
            "Batch 900 | Loss: 0.1025 | Acc: 96.88%\n",
            "Batch 1200 | Loss: 0.1464 | Acc: 93.75%\n",
            "Batch 1500 | Loss: 0.0765 | Acc: 96.88%\n",
            "Batch 1800 | Loss: 0.2490 | Acc: 90.62%\n"
          ]
        },
        {
          "output_type": "stream",
          "name": "stderr",
          "text": [
            "Evaluating: 100%|██████████| 313/313 [00:01<00:00, 199.20it/s]"
          ]
        },
        {
          "output_type": "stream",
          "name": "stdout",
          "text": [
            "Epoch: 9 | Train Loss: 0.2634 | Train Acc: 90.23% | Test Loss: 0.3641 | Test Acc: 87.72%\n"
          ]
        },
        {
          "output_type": "stream",
          "name": "stderr",
          "text": [
            "\n"
          ]
        }
      ]
    },
    {
      "cell_type": "code",
      "source": [
        "# tensor([6, 3, 6, 8, 1, 7, 3, 6, 9, 6, 4, 1, 5, 4, 8, 4, 5, 1, 6, 1, 7, 4, 0, 2,\n",
        "        # 5, 6, 5, 2, 8, 7, 1, 2])\n",
        "\n",
        "\n",
        "with torch.inference_mode():\n",
        "    check=model(check_image[0])\n",
        "\n",
        "check.argmax(dim=1)"
      ],
      "metadata": {
        "colab": {
          "base_uri": "https://localhost:8080/",
          "height": 356
        },
        "id": "TXcQIKPkY7nX",
        "outputId": "2d8b9f69-94cd-4456-d08a-6b8ffddbe201"
      },
      "execution_count": null,
      "outputs": [
        {
          "output_type": "error",
          "ename": "RuntimeError",
          "evalue": "Input type (torch.FloatTensor) and weight type (torch.cuda.FloatTensor) should be the same or input should be a MKLDNN tensor and weight is a dense tensor",
          "traceback": [
            "\u001b[0;31m---------------------------------------------------------------------------\u001b[0m",
            "\u001b[0;31mRuntimeError\u001b[0m                              Traceback (most recent call last)",
            "\u001b[0;32m<ipython-input-28-55b1267a8e64>\u001b[0m in \u001b[0;36m<cell line: 5>\u001b[0;34m()\u001b[0m\n\u001b[1;32m      4\u001b[0m \u001b[0;34m\u001b[0m\u001b[0m\n\u001b[1;32m      5\u001b[0m \u001b[0;32mwith\u001b[0m \u001b[0mtorch\u001b[0m\u001b[0;34m.\u001b[0m\u001b[0minference_mode\u001b[0m\u001b[0;34m(\u001b[0m\u001b[0;34m)\u001b[0m\u001b[0;34m:\u001b[0m\u001b[0;34m\u001b[0m\u001b[0;34m\u001b[0m\u001b[0m\n\u001b[0;32m----> 6\u001b[0;31m     \u001b[0mcheck\u001b[0m\u001b[0;34m=\u001b[0m\u001b[0mmodel\u001b[0m\u001b[0;34m(\u001b[0m\u001b[0mcheck_image\u001b[0m\u001b[0;34m[\u001b[0m\u001b[0;36m0\u001b[0m\u001b[0;34m]\u001b[0m\u001b[0;34m)\u001b[0m\u001b[0;34m\u001b[0m\u001b[0;34m\u001b[0m\u001b[0m\n\u001b[0m\u001b[1;32m      7\u001b[0m \u001b[0;34m\u001b[0m\u001b[0m\n\u001b[1;32m      8\u001b[0m \u001b[0mcheck\u001b[0m\u001b[0;34m.\u001b[0m\u001b[0margmax\u001b[0m\u001b[0;34m(\u001b[0m\u001b[0mdim\u001b[0m\u001b[0;34m=\u001b[0m\u001b[0;36m1\u001b[0m\u001b[0;34m)\u001b[0m\u001b[0;34m\u001b[0m\u001b[0;34m\u001b[0m\u001b[0m\n",
            "\u001b[0;32m/usr/local/lib/python3.10/dist-packages/torch/nn/modules/module.py\u001b[0m in \u001b[0;36m_wrapped_call_impl\u001b[0;34m(self, *args, **kwargs)\u001b[0m\n\u001b[1;32m   1551\u001b[0m             \u001b[0;32mreturn\u001b[0m \u001b[0mself\u001b[0m\u001b[0;34m.\u001b[0m\u001b[0m_compiled_call_impl\u001b[0m\u001b[0;34m(\u001b[0m\u001b[0;34m*\u001b[0m\u001b[0margs\u001b[0m\u001b[0;34m,\u001b[0m \u001b[0;34m**\u001b[0m\u001b[0mkwargs\u001b[0m\u001b[0;34m)\u001b[0m  \u001b[0;31m# type: ignore[misc]\u001b[0m\u001b[0;34m\u001b[0m\u001b[0;34m\u001b[0m\u001b[0m\n\u001b[1;32m   1552\u001b[0m         \u001b[0;32melse\u001b[0m\u001b[0;34m:\u001b[0m\u001b[0;34m\u001b[0m\u001b[0;34m\u001b[0m\u001b[0m\n\u001b[0;32m-> 1553\u001b[0;31m             \u001b[0;32mreturn\u001b[0m \u001b[0mself\u001b[0m\u001b[0;34m.\u001b[0m\u001b[0m_call_impl\u001b[0m\u001b[0;34m(\u001b[0m\u001b[0;34m*\u001b[0m\u001b[0margs\u001b[0m\u001b[0;34m,\u001b[0m \u001b[0;34m**\u001b[0m\u001b[0mkwargs\u001b[0m\u001b[0;34m)\u001b[0m\u001b[0;34m\u001b[0m\u001b[0;34m\u001b[0m\u001b[0m\n\u001b[0m\u001b[1;32m   1554\u001b[0m \u001b[0;34m\u001b[0m\u001b[0m\n\u001b[1;32m   1555\u001b[0m     \u001b[0;32mdef\u001b[0m \u001b[0m_call_impl\u001b[0m\u001b[0;34m(\u001b[0m\u001b[0mself\u001b[0m\u001b[0;34m,\u001b[0m \u001b[0;34m*\u001b[0m\u001b[0margs\u001b[0m\u001b[0;34m,\u001b[0m \u001b[0;34m**\u001b[0m\u001b[0mkwargs\u001b[0m\u001b[0;34m)\u001b[0m\u001b[0;34m:\u001b[0m\u001b[0;34m\u001b[0m\u001b[0;34m\u001b[0m\u001b[0m\n",
            "\u001b[0;32m/usr/local/lib/python3.10/dist-packages/torch/nn/modules/module.py\u001b[0m in \u001b[0;36m_call_impl\u001b[0;34m(self, *args, **kwargs)\u001b[0m\n\u001b[1;32m   1560\u001b[0m                 \u001b[0;32mor\u001b[0m \u001b[0m_global_backward_pre_hooks\u001b[0m \u001b[0;32mor\u001b[0m \u001b[0m_global_backward_hooks\u001b[0m\u001b[0;34m\u001b[0m\u001b[0;34m\u001b[0m\u001b[0m\n\u001b[1;32m   1561\u001b[0m                 or _global_forward_hooks or _global_forward_pre_hooks):\n\u001b[0;32m-> 1562\u001b[0;31m             \u001b[0;32mreturn\u001b[0m \u001b[0mforward_call\u001b[0m\u001b[0;34m(\u001b[0m\u001b[0;34m*\u001b[0m\u001b[0margs\u001b[0m\u001b[0;34m,\u001b[0m \u001b[0;34m**\u001b[0m\u001b[0mkwargs\u001b[0m\u001b[0;34m)\u001b[0m\u001b[0;34m\u001b[0m\u001b[0;34m\u001b[0m\u001b[0m\n\u001b[0m\u001b[1;32m   1563\u001b[0m \u001b[0;34m\u001b[0m\u001b[0m\n\u001b[1;32m   1564\u001b[0m         \u001b[0;32mtry\u001b[0m\u001b[0;34m:\u001b[0m\u001b[0;34m\u001b[0m\u001b[0;34m\u001b[0m\u001b[0m\n",
            "\u001b[0;32m<ipython-input-20-db6680c79232>\u001b[0m in \u001b[0;36mforward\u001b[0;34m(self, x)\u001b[0m\n\u001b[1;32m     25\u001b[0m \u001b[0;34m\u001b[0m\u001b[0m\n\u001b[1;32m     26\u001b[0m     \u001b[0;32mdef\u001b[0m \u001b[0mforward\u001b[0m\u001b[0;34m(\u001b[0m\u001b[0mself\u001b[0m\u001b[0;34m,\u001b[0m \u001b[0mx\u001b[0m\u001b[0;34m)\u001b[0m\u001b[0;34m:\u001b[0m\u001b[0;34m\u001b[0m\u001b[0;34m\u001b[0m\u001b[0m\n\u001b[0;32m---> 27\u001b[0;31m         \u001b[0mout\u001b[0m \u001b[0;34m=\u001b[0m \u001b[0mself\u001b[0m\u001b[0;34m.\u001b[0m\u001b[0mlayer1\u001b[0m\u001b[0;34m(\u001b[0m\u001b[0mx\u001b[0m\u001b[0;34m)\u001b[0m\u001b[0;34m\u001b[0m\u001b[0;34m\u001b[0m\u001b[0m\n\u001b[0m\u001b[1;32m     28\u001b[0m         \u001b[0mout\u001b[0m \u001b[0;34m=\u001b[0m \u001b[0mself\u001b[0m\u001b[0;34m.\u001b[0m\u001b[0mlayer2\u001b[0m\u001b[0;34m(\u001b[0m\u001b[0mout\u001b[0m\u001b[0;34m)\u001b[0m\u001b[0;34m\u001b[0m\u001b[0;34m\u001b[0m\u001b[0m\n\u001b[1;32m     29\u001b[0m         \u001b[0mout\u001b[0m \u001b[0;34m=\u001b[0m \u001b[0mout\u001b[0m\u001b[0;34m.\u001b[0m\u001b[0mview\u001b[0m\u001b[0;34m(\u001b[0m\u001b[0mout\u001b[0m\u001b[0;34m.\u001b[0m\u001b[0msize\u001b[0m\u001b[0;34m(\u001b[0m\u001b[0;36m0\u001b[0m\u001b[0;34m)\u001b[0m\u001b[0;34m,\u001b[0m \u001b[0;34m-\u001b[0m\u001b[0;36m1\u001b[0m\u001b[0;34m)\u001b[0m\u001b[0;34m\u001b[0m\u001b[0;34m\u001b[0m\u001b[0m\n",
            "\u001b[0;32m/usr/local/lib/python3.10/dist-packages/torch/nn/modules/module.py\u001b[0m in \u001b[0;36m_wrapped_call_impl\u001b[0;34m(self, *args, **kwargs)\u001b[0m\n\u001b[1;32m   1551\u001b[0m             \u001b[0;32mreturn\u001b[0m \u001b[0mself\u001b[0m\u001b[0;34m.\u001b[0m\u001b[0m_compiled_call_impl\u001b[0m\u001b[0;34m(\u001b[0m\u001b[0;34m*\u001b[0m\u001b[0margs\u001b[0m\u001b[0;34m,\u001b[0m \u001b[0;34m**\u001b[0m\u001b[0mkwargs\u001b[0m\u001b[0;34m)\u001b[0m  \u001b[0;31m# type: ignore[misc]\u001b[0m\u001b[0;34m\u001b[0m\u001b[0;34m\u001b[0m\u001b[0m\n\u001b[1;32m   1552\u001b[0m         \u001b[0;32melse\u001b[0m\u001b[0;34m:\u001b[0m\u001b[0;34m\u001b[0m\u001b[0;34m\u001b[0m\u001b[0m\n\u001b[0;32m-> 1553\u001b[0;31m             \u001b[0;32mreturn\u001b[0m \u001b[0mself\u001b[0m\u001b[0;34m.\u001b[0m\u001b[0m_call_impl\u001b[0m\u001b[0;34m(\u001b[0m\u001b[0;34m*\u001b[0m\u001b[0margs\u001b[0m\u001b[0;34m,\u001b[0m \u001b[0;34m**\u001b[0m\u001b[0mkwargs\u001b[0m\u001b[0;34m)\u001b[0m\u001b[0;34m\u001b[0m\u001b[0;34m\u001b[0m\u001b[0m\n\u001b[0m\u001b[1;32m   1554\u001b[0m \u001b[0;34m\u001b[0m\u001b[0m\n\u001b[1;32m   1555\u001b[0m     \u001b[0;32mdef\u001b[0m \u001b[0m_call_impl\u001b[0m\u001b[0;34m(\u001b[0m\u001b[0mself\u001b[0m\u001b[0;34m,\u001b[0m \u001b[0;34m*\u001b[0m\u001b[0margs\u001b[0m\u001b[0;34m,\u001b[0m \u001b[0;34m**\u001b[0m\u001b[0mkwargs\u001b[0m\u001b[0;34m)\u001b[0m\u001b[0;34m:\u001b[0m\u001b[0;34m\u001b[0m\u001b[0;34m\u001b[0m\u001b[0m\n",
            "\u001b[0;32m/usr/local/lib/python3.10/dist-packages/torch/nn/modules/module.py\u001b[0m in \u001b[0;36m_call_impl\u001b[0;34m(self, *args, **kwargs)\u001b[0m\n\u001b[1;32m   1560\u001b[0m                 \u001b[0;32mor\u001b[0m \u001b[0m_global_backward_pre_hooks\u001b[0m \u001b[0;32mor\u001b[0m \u001b[0m_global_backward_hooks\u001b[0m\u001b[0;34m\u001b[0m\u001b[0;34m\u001b[0m\u001b[0m\n\u001b[1;32m   1561\u001b[0m                 or _global_forward_hooks or _global_forward_pre_hooks):\n\u001b[0;32m-> 1562\u001b[0;31m             \u001b[0;32mreturn\u001b[0m \u001b[0mforward_call\u001b[0m\u001b[0;34m(\u001b[0m\u001b[0;34m*\u001b[0m\u001b[0margs\u001b[0m\u001b[0;34m,\u001b[0m \u001b[0;34m**\u001b[0m\u001b[0mkwargs\u001b[0m\u001b[0;34m)\u001b[0m\u001b[0;34m\u001b[0m\u001b[0;34m\u001b[0m\u001b[0m\n\u001b[0m\u001b[1;32m   1563\u001b[0m \u001b[0;34m\u001b[0m\u001b[0m\n\u001b[1;32m   1564\u001b[0m         \u001b[0;32mtry\u001b[0m\u001b[0;34m:\u001b[0m\u001b[0;34m\u001b[0m\u001b[0;34m\u001b[0m\u001b[0m\n",
            "\u001b[0;32m/usr/local/lib/python3.10/dist-packages/torch/nn/modules/container.py\u001b[0m in \u001b[0;36mforward\u001b[0;34m(self, input)\u001b[0m\n\u001b[1;32m    217\u001b[0m     \u001b[0;32mdef\u001b[0m \u001b[0mforward\u001b[0m\u001b[0;34m(\u001b[0m\u001b[0mself\u001b[0m\u001b[0;34m,\u001b[0m \u001b[0minput\u001b[0m\u001b[0;34m)\u001b[0m\u001b[0;34m:\u001b[0m\u001b[0;34m\u001b[0m\u001b[0;34m\u001b[0m\u001b[0m\n\u001b[1;32m    218\u001b[0m         \u001b[0;32mfor\u001b[0m \u001b[0mmodule\u001b[0m \u001b[0;32min\u001b[0m \u001b[0mself\u001b[0m\u001b[0;34m:\u001b[0m\u001b[0;34m\u001b[0m\u001b[0;34m\u001b[0m\u001b[0m\n\u001b[0;32m--> 219\u001b[0;31m             \u001b[0minput\u001b[0m \u001b[0;34m=\u001b[0m \u001b[0mmodule\u001b[0m\u001b[0;34m(\u001b[0m\u001b[0minput\u001b[0m\u001b[0;34m)\u001b[0m\u001b[0;34m\u001b[0m\u001b[0;34m\u001b[0m\u001b[0m\n\u001b[0m\u001b[1;32m    220\u001b[0m         \u001b[0;32mreturn\u001b[0m \u001b[0minput\u001b[0m\u001b[0;34m\u001b[0m\u001b[0;34m\u001b[0m\u001b[0m\n\u001b[1;32m    221\u001b[0m \u001b[0;34m\u001b[0m\u001b[0m\n",
            "\u001b[0;32m/usr/local/lib/python3.10/dist-packages/torch/nn/modules/module.py\u001b[0m in \u001b[0;36m_wrapped_call_impl\u001b[0;34m(self, *args, **kwargs)\u001b[0m\n\u001b[1;32m   1551\u001b[0m             \u001b[0;32mreturn\u001b[0m \u001b[0mself\u001b[0m\u001b[0;34m.\u001b[0m\u001b[0m_compiled_call_impl\u001b[0m\u001b[0;34m(\u001b[0m\u001b[0;34m*\u001b[0m\u001b[0margs\u001b[0m\u001b[0;34m,\u001b[0m \u001b[0;34m**\u001b[0m\u001b[0mkwargs\u001b[0m\u001b[0;34m)\u001b[0m  \u001b[0;31m# type: ignore[misc]\u001b[0m\u001b[0;34m\u001b[0m\u001b[0;34m\u001b[0m\u001b[0m\n\u001b[1;32m   1552\u001b[0m         \u001b[0;32melse\u001b[0m\u001b[0;34m:\u001b[0m\u001b[0;34m\u001b[0m\u001b[0;34m\u001b[0m\u001b[0m\n\u001b[0;32m-> 1553\u001b[0;31m             \u001b[0;32mreturn\u001b[0m \u001b[0mself\u001b[0m\u001b[0;34m.\u001b[0m\u001b[0m_call_impl\u001b[0m\u001b[0;34m(\u001b[0m\u001b[0;34m*\u001b[0m\u001b[0margs\u001b[0m\u001b[0;34m,\u001b[0m \u001b[0;34m**\u001b[0m\u001b[0mkwargs\u001b[0m\u001b[0;34m)\u001b[0m\u001b[0;34m\u001b[0m\u001b[0;34m\u001b[0m\u001b[0m\n\u001b[0m\u001b[1;32m   1554\u001b[0m \u001b[0;34m\u001b[0m\u001b[0m\n\u001b[1;32m   1555\u001b[0m     \u001b[0;32mdef\u001b[0m \u001b[0m_call_impl\u001b[0m\u001b[0;34m(\u001b[0m\u001b[0mself\u001b[0m\u001b[0;34m,\u001b[0m \u001b[0;34m*\u001b[0m\u001b[0margs\u001b[0m\u001b[0;34m,\u001b[0m \u001b[0;34m**\u001b[0m\u001b[0mkwargs\u001b[0m\u001b[0;34m)\u001b[0m\u001b[0;34m:\u001b[0m\u001b[0;34m\u001b[0m\u001b[0;34m\u001b[0m\u001b[0m\n",
            "\u001b[0;32m/usr/local/lib/python3.10/dist-packages/torch/nn/modules/module.py\u001b[0m in \u001b[0;36m_call_impl\u001b[0;34m(self, *args, **kwargs)\u001b[0m\n\u001b[1;32m   1560\u001b[0m                 \u001b[0;32mor\u001b[0m \u001b[0m_global_backward_pre_hooks\u001b[0m \u001b[0;32mor\u001b[0m \u001b[0m_global_backward_hooks\u001b[0m\u001b[0;34m\u001b[0m\u001b[0;34m\u001b[0m\u001b[0m\n\u001b[1;32m   1561\u001b[0m                 or _global_forward_hooks or _global_forward_pre_hooks):\n\u001b[0;32m-> 1562\u001b[0;31m             \u001b[0;32mreturn\u001b[0m \u001b[0mforward_call\u001b[0m\u001b[0;34m(\u001b[0m\u001b[0;34m*\u001b[0m\u001b[0margs\u001b[0m\u001b[0;34m,\u001b[0m \u001b[0;34m**\u001b[0m\u001b[0mkwargs\u001b[0m\u001b[0;34m)\u001b[0m\u001b[0;34m\u001b[0m\u001b[0;34m\u001b[0m\u001b[0m\n\u001b[0m\u001b[1;32m   1563\u001b[0m \u001b[0;34m\u001b[0m\u001b[0m\n\u001b[1;32m   1564\u001b[0m         \u001b[0;32mtry\u001b[0m\u001b[0;34m:\u001b[0m\u001b[0;34m\u001b[0m\u001b[0;34m\u001b[0m\u001b[0m\n",
            "\u001b[0;32m/usr/local/lib/python3.10/dist-packages/torch/nn/modules/conv.py\u001b[0m in \u001b[0;36mforward\u001b[0;34m(self, input)\u001b[0m\n\u001b[1;32m    456\u001b[0m \u001b[0;34m\u001b[0m\u001b[0m\n\u001b[1;32m    457\u001b[0m     \u001b[0;32mdef\u001b[0m \u001b[0mforward\u001b[0m\u001b[0;34m(\u001b[0m\u001b[0mself\u001b[0m\u001b[0;34m,\u001b[0m \u001b[0minput\u001b[0m\u001b[0;34m:\u001b[0m \u001b[0mTensor\u001b[0m\u001b[0;34m)\u001b[0m \u001b[0;34m->\u001b[0m \u001b[0mTensor\u001b[0m\u001b[0;34m:\u001b[0m\u001b[0;34m\u001b[0m\u001b[0;34m\u001b[0m\u001b[0m\n\u001b[0;32m--> 458\u001b[0;31m         \u001b[0;32mreturn\u001b[0m \u001b[0mself\u001b[0m\u001b[0;34m.\u001b[0m\u001b[0m_conv_forward\u001b[0m\u001b[0;34m(\u001b[0m\u001b[0minput\u001b[0m\u001b[0;34m,\u001b[0m \u001b[0mself\u001b[0m\u001b[0;34m.\u001b[0m\u001b[0mweight\u001b[0m\u001b[0;34m,\u001b[0m \u001b[0mself\u001b[0m\u001b[0;34m.\u001b[0m\u001b[0mbias\u001b[0m\u001b[0;34m)\u001b[0m\u001b[0;34m\u001b[0m\u001b[0;34m\u001b[0m\u001b[0m\n\u001b[0m\u001b[1;32m    459\u001b[0m \u001b[0;34m\u001b[0m\u001b[0m\n\u001b[1;32m    460\u001b[0m \u001b[0;32mclass\u001b[0m \u001b[0mConv3d\u001b[0m\u001b[0;34m(\u001b[0m\u001b[0m_ConvNd\u001b[0m\u001b[0;34m)\u001b[0m\u001b[0;34m:\u001b[0m\u001b[0;34m\u001b[0m\u001b[0;34m\u001b[0m\u001b[0m\n",
            "\u001b[0;32m/usr/local/lib/python3.10/dist-packages/torch/nn/modules/conv.py\u001b[0m in \u001b[0;36m_conv_forward\u001b[0;34m(self, input, weight, bias)\u001b[0m\n\u001b[1;32m    452\u001b[0m                             \u001b[0mweight\u001b[0m\u001b[0;34m,\u001b[0m \u001b[0mbias\u001b[0m\u001b[0;34m,\u001b[0m \u001b[0mself\u001b[0m\u001b[0;34m.\u001b[0m\u001b[0mstride\u001b[0m\u001b[0;34m,\u001b[0m\u001b[0;34m\u001b[0m\u001b[0;34m\u001b[0m\u001b[0m\n\u001b[1;32m    453\u001b[0m                             _pair(0), self.dilation, self.groups)\n\u001b[0;32m--> 454\u001b[0;31m         return F.conv2d(input, weight, bias, self.stride,\n\u001b[0m\u001b[1;32m    455\u001b[0m                         self.padding, self.dilation, self.groups)\n\u001b[1;32m    456\u001b[0m \u001b[0;34m\u001b[0m\u001b[0m\n",
            "\u001b[0;31mRuntimeError\u001b[0m: Input type (torch.FloatTensor) and weight type (torch.cuda.FloatTensor) should be the same or input should be a MKLDNN tensor and weight is a dense tensor"
          ]
        }
      ]
    },
    {
      "cell_type": "code",
      "source": [],
      "metadata": {
        "id": "Hw5pG9i9Y7kw"
      },
      "execution_count": null,
      "outputs": []
    },
    {
      "cell_type": "code",
      "source": [],
      "metadata": {
        "id": "zHr8ebLVYn1q"
      },
      "execution_count": null,
      "outputs": []
    },
    {
      "cell_type": "code",
      "source": [
        "import requests\n",
        "\n",
        "files=requests.get(\"https://raw.githubusercontent.com/mrdbourke/pytorch-deep-learning/refs/heads/main/helper_functions.py\")\n",
        "\n",
        "with open(\"helper_function.py\",\"wb\") as f:\n",
        "    f.write(files.content)"
      ],
      "metadata": {
        "id": "81ysvecyrcZf"
      },
      "execution_count": null,
      "outputs": []
    },
    {
      "cell_type": "code",
      "source": [
        "from helper_function import plot_decision_boundary"
      ],
      "metadata": {
        "id": "Y8bxRA0Psmwh"
      },
      "execution_count": null,
      "outputs": []
    },
    {
      "cell_type": "code",
      "source": [
        "plot_decision_boundary(model,)"
      ],
      "metadata": {
        "id": "oq6e9ZSGswld"
      },
      "execution_count": null,
      "outputs": []
    },
    {
      "cell_type": "code",
      "source": [
        "128* 9"
      ],
      "metadata": {
        "id": "mqRmcPC5X4ii"
      },
      "execution_count": null,
      "outputs": []
    },
    {
      "cell_type": "code",
      "source": [],
      "metadata": {
        "id": "cxoOJBw_X5es"
      },
      "execution_count": null,
      "outputs": []
    }
  ]
}